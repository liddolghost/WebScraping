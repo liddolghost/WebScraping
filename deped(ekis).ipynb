{
 "cells": [
  {
   "cell_type": "code",
   "execution_count": 1,
   "id": "ef9fa8ad",
   "metadata": {},
   "outputs": [],
   "source": [
    "from selenium import webdriver\n",
    "import pandas as pd\n",
    "from selenium.webdriver.common.by import By\n",
    "from selenium.webdriver.support.ui import WebDriverWait\n",
    "from selenium.webdriver.support import expected_conditions as EC"
   ]
  },
  {
   "cell_type": "code",
   "execution_count": 2,
   "id": "d82ae15b",
   "metadata": {},
   "outputs": [],
   "source": [
    "edge_driver_path = 'C:\\webdrivers\\msedgedriver.exe'\n",
    "service = webdriver.edge.service.Service(edge_driver_path)\n",
    "driver = webdriver.Edge(service=service)\n",
    "\n",
    "driver.get('https://www.deped.gov.ph/k-to-12/senior-high-school/list-of-senior-high-schools/')\n",
    "driver.maximize_window()"
   ]
  },
  {
   "cell_type": "code",
   "execution_count": null,
   "id": "2abebd51",
   "metadata": {},
   "outputs": [],
   "source": []
  },
  {
   "cell_type": "code",
   "execution_count": 3,
   "id": "772521f9",
   "metadata": {},
   "outputs": [],
   "source": [
    "#taxonomy\n",
    "taxonomy = driver.find_elements(By.XPATH, '//tbody/tr[2]/td[1]')\n",
    "\n",
    "#municipality\n",
    "municipality = driver.find_elements(By.XPATH,'//tbody/tr[2]/td[2]')\n",
    "\n",
    "#school id\n",
    "school_id = driver.find_elements(By.XPATH,'//tbody/tr[2]/td[3]')\n",
    "\n",
    "#school name\n",
    "school_name = driver.find_elements(By.XPATH,'//tbody/tr[2]/td[4]')\n",
    "\n",
    "#program offerings\n",
    "offered_programs = driver.find_elements(By.XPATH,'//tbody/tr[2]/td[5]')\n"
   ]
  },
  {
   "cell_type": "code",
   "execution_count": 4,
   "id": "4573da92",
   "metadata": {},
   "outputs": [],
   "source": [
    "deped_results = []"
   ]
  },
  {
   "cell_type": "code",
   "execution_count": 5,
   "id": "7a87e213",
   "metadata": {},
   "outputs": [
    {
     "ename": "IndexError",
     "evalue": "list index out of range",
     "output_type": "error",
     "traceback": [
      "\u001b[1;31m---------------------------------------------------------------------------\u001b[0m",
      "\u001b[1;31mIndexError\u001b[0m                                Traceback (most recent call last)",
      "Cell \u001b[1;32mIn[5], line 7\u001b[0m\n\u001b[0;32m      1\u001b[0m \u001b[38;5;28;01mfor\u001b[39;00m i \u001b[38;5;129;01min\u001b[39;00m \u001b[38;5;28mrange\u001b[39m(\u001b[38;5;28mlen\u001b[39m(taxonomy)):\n\u001b[0;32m      2\u001b[0m     school_dictionary\u001b[38;5;241m=\u001b[39m{\n\u001b[0;32m      3\u001b[0m         \u001b[38;5;124m'\u001b[39m\u001b[38;5;124mTaxonomy\u001b[39m\u001b[38;5;124m'\u001b[39m:taxonomy[i]\u001b[38;5;241m.\u001b[39mtext,\n\u001b[0;32m      4\u001b[0m         \u001b[38;5;124m'\u001b[39m\u001b[38;5;124mMunicipality\u001b[39m\u001b[38;5;124m'\u001b[39m:municipality[i]\u001b[38;5;241m.\u001b[39mtext,\n\u001b[0;32m      5\u001b[0m         \u001b[38;5;124m'\u001b[39m\u001b[38;5;124mSchool ID\u001b[39m\u001b[38;5;124m'\u001b[39m:school_id[i]\u001b[38;5;241m.\u001b[39mtext,\n\u001b[0;32m      6\u001b[0m         \u001b[38;5;124m'\u001b[39m\u001b[38;5;124mSchool Name\u001b[39m\u001b[38;5;124m'\u001b[39m:school_name[i]\u001b[38;5;241m.\u001b[39mtext,\n\u001b[1;32m----> 7\u001b[0m         \u001b[38;5;124m'\u001b[39m\u001b[38;5;124mProgram Offering\u001b[39m\u001b[38;5;124m'\u001b[39m:\u001b[43moffered_programs\u001b[49m\u001b[43m[\u001b[49m\u001b[43mi\u001b[49m\u001b[43m]\u001b[49m\u001b[38;5;241m.\u001b[39mtext}\n",
      "\u001b[1;31mIndexError\u001b[0m: list index out of range"
     ]
    }
   ],
   "source": [
    "for i in range(len(taxonomy)):\n",
    "    school_dictionary={\n",
    "        'Taxonomy':taxonomy[i].text,\n",
    "        'Municipality':municipality[i].text,\n",
    "        'School ID':school_id[i].text,\n",
    "        'School Name':school_name[i].text,\n",
    "        'Program Offering':offered_programs[i].text}"
   ]
  },
  {
   "cell_type": "code",
   "execution_count": null,
   "id": "355cf417",
   "metadata": {},
   "outputs": [],
   "source": []
  }
 ],
 "metadata": {
  "kernelspec": {
   "display_name": "Python 3 (ipykernel)",
   "language": "python",
   "name": "python3"
  },
  "language_info": {
   "codemirror_mode": {
    "name": "ipython",
    "version": 3
   },
   "file_extension": ".py",
   "mimetype": "text/x-python",
   "name": "python",
   "nbconvert_exporter": "python",
   "pygments_lexer": "ipython3",
   "version": "3.10.0"
  }
 },
 "nbformat": 4,
 "nbformat_minor": 5
}
