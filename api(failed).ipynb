{
 "cells": [
  {
   "cell_type": "code",
   "execution_count": 1,
   "id": "31d7d317",
   "metadata": {},
   "outputs": [],
   "source": [
    "import requests\n",
    "import pandas as pd"
   ]
  },
  {
   "cell_type": "code",
   "execution_count": 2,
   "id": "44779d99",
   "metadata": {},
   "outputs": [],
   "source": [
    "# Your OpenWeatherMap API key\n",
    "api_key = \"bf4103cb43fdff2b2622d2908e5d3b50\""
   ]
  },
  {
   "cell_type": "code",
   "execution_count": 3,
   "id": "d01befe4",
   "metadata": {},
   "outputs": [],
   "source": [
    "# List of cities\n",
    "cities = [\"New York\", \"Los Angeles\", \"Chicago\", \"Houston\", \"Miami\"]\n"
   ]
  },
  {
   "cell_type": "code",
   "execution_count": 4,
   "id": "db9245c1",
   "metadata": {},
   "outputs": [],
   "source": [
    "# Initialize an empty list to store weather data\n",
    "weather_data = []"
   ]
  },
  {
   "cell_type": "code",
   "execution_count": 5,
   "id": "6e5a81b6",
   "metadata": {},
   "outputs": [],
   "source": [
    "# Iterate through the list of cities and fetch weather data\n",
    "for city in cities:\n",
    "    url = f\"http://api.openweathermap.org/data/2.5/weather?q={city}&appid={api_key}\"\n",
    "    response = requests.get(url)\n",
    "    data = response.json()"
   ]
  },
  {
   "cell_type": "code",
   "execution_count": 9,
   "id": "2d4cd7aa",
   "metadata": {},
   "outputs": [],
   "source": [
    "# Extract relevant information from the API response\n",
    "weather = {\n",
    "    \"City\": city,\n",
    "    \"Temperature (Celsius)\": data.get(\"main\", {}).get(\"temp\", 0) - 273.15,\n",
    "    \"Humidity (%)\": data.get(\"main\", {}).get(\"humidity\", 0),\n",
    "    \"Pressure (hPa)\": data.get(\"main\", {}).get(\"pressure\", 0),\n",
    "    \"Weather Description\": data.get(\"weather\", [{}])[0].get(\"description\", \"N/A\"),\n",
    "}\n"
   ]
  },
  {
   "cell_type": "code",
   "execution_count": 10,
   "id": "e98d27b9",
   "metadata": {},
   "outputs": [],
   "source": [
    "# Create a DataFrame from the collected data\n",
    "df = pd.DataFrame(weather_data)"
   ]
  },
  {
   "cell_type": "code",
   "execution_count": 11,
   "id": "082ffe37",
   "metadata": {},
   "outputs": [],
   "source": [
    "# Save the data to an Excel file\n",
    "df.to_excel(\"weather_data.xlsx\", index=False)"
   ]
  },
  {
   "cell_type": "code",
   "execution_count": null,
   "id": "d8e994be",
   "metadata": {},
   "outputs": [],
   "source": []
  }
 ],
 "metadata": {
  "kernelspec": {
   "display_name": "Python 3 (ipykernel)",
   "language": "python",
   "name": "python3"
  },
  "language_info": {
   "codemirror_mode": {
    "name": "ipython",
    "version": 3
   },
   "file_extension": ".py",
   "mimetype": "text/x-python",
   "name": "python",
   "nbconvert_exporter": "python",
   "pygments_lexer": "ipython3",
   "version": "3.10.0"
  }
 },
 "nbformat": 4,
 "nbformat_minor": 5
}
