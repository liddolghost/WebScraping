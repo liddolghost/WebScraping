{
 "cells": [
  {
   "cell_type": "code",
   "execution_count": 26,
   "id": "6d2c9568",
   "metadata": {},
   "outputs": [],
   "source": [
    "import tweepy\n",
    "import configparser\n",
    "import pandas as pd"
   ]
  },
  {
   "cell_type": "code",
   "execution_count": 27,
   "id": "ac4a868a",
   "metadata": {
    "scrolled": true
   },
   "outputs": [
    {
     "ename": "SyntaxError",
     "evalue": "invalid decimal literal (3037682226.py, line 5)",
     "output_type": "error",
     "traceback": [
      "\u001b[1;36m  Cell \u001b[1;32mIn[27], line 5\u001b[1;36m\u001b[0m\n\u001b[1;33m    access_token_secret = 5BfiFk1e845G6NgaK0c0uk9SZXltaII4ndCLgUdh5WuMp\u001b[0m\n\u001b[1;37m                          ^\u001b[0m\n\u001b[1;31mSyntaxError\u001b[0m\u001b[1;31m:\u001b[0m invalid decimal literal\n"
     ]
    }
   ],
   "source": [
    "api_key = nbsZziXVUMTsbPTvFLPZwuiBW\n",
    "api_key_secret = QZckEPqHCD6Nt9sosbB7ea85sNjVnq4yotzSB9tKChCdMLtuAN\n",
    "\n",
    "access_token = 1521444205327155201-sUCbHhEkiwvpYBKffVM6PUFqhJPN04\n",
    "access_token_secret = 5BfiFk1e845G6NgaK0c0uk9SZXltaII4ndCLgUdh5WuMp"
   ]
  },
  {
   "cell_type": "code",
   "execution_count": 28,
   "id": "2c634bc1",
   "metadata": {},
   "outputs": [],
   "source": [
    "# authentication \n",
    "auth = tweepy.OAuthHandler(api_key, api_key_secret, access_token, access_token_secret)\n"
   ]
  },
  {
   "cell_type": "code",
   "execution_count": 29,
   "id": "84816098",
   "metadata": {},
   "outputs": [],
   "source": [
    "api = tweepy.API(auth, wait_on_rate_limit=True)"
   ]
  },
  {
   "cell_type": "code",
   "execution_count": 35,
   "id": "f64a61c2",
   "metadata": {},
   "outputs": [
    {
     "name": "stdout",
     "output_type": "stream",
     "text": [
      "Error: 403 Forbidden\n",
      "453 - You currently have access to a subset of Twitter API v2 endpoints and limited v1.1 endpoints (e.g. media post, oauth) only. If you need access to this endpoint, you may need a different access level. You can learn more here: https://developer.twitter.com/en/portal/product\n"
     ]
    }
   ],
   "source": [
    "# Retrieve your own tweets\n",
    "no_of_tweets = 100  # The number of tweets you want to retrieve\n",
    "try:\n",
    "    tweets = api.user_timeline(screen_name=\"sengyyaa\", count=no_of_tweets, tweet_mode=\"extended\")\n",
    "\n",
    "    # Pulling some attributes from the tweets\n",
    "    attributes_container = [\n",
    "        [tweet.user.name, tweet.created_at, tweet.favorite_count, tweet.source, tweet.full_text] for tweet in tweets\n",
    "    ]\n",
    "\n",
    "    # Creation of column list to rename the columns in the dataframe\n",
    "    columns = [\"User\", \"Date Created\", \"Number of Likes\", \"Source of Tweet\", \"Tweet\"]\n",
    "\n",
    "    # Creation of Dataframe\n",
    "    tweets_df = pd.DataFrame(attributes_container, columns=columns)\n",
    "except Exception as e:\n",
    "    print(\"Error:\", str(e))"
   ]
  },
  {
   "cell_type": "code",
   "execution_count": null,
   "id": "25bd43e4",
   "metadata": {},
   "outputs": [],
   "source": []
  }
 ],
 "metadata": {
  "kernelspec": {
   "display_name": "Python 3 (ipykernel)",
   "language": "python",
   "name": "python3"
  },
  "language_info": {
   "codemirror_mode": {
    "name": "ipython",
    "version": 3
   },
   "file_extension": ".py",
   "mimetype": "text/x-python",
   "name": "python",
   "nbconvert_exporter": "python",
   "pygments_lexer": "ipython3",
   "version": "3.10.0"
  }
 },
 "nbformat": 4,
 "nbformat_minor": 5
}
